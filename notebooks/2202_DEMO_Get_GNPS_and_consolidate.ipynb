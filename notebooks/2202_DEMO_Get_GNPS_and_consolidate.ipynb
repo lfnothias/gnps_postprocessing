{
 "cells": [
  {
   "cell_type": "markdown",
   "id": "8239c6a2-2f9b-49a6-8386-5462281ced95",
   "metadata": {},
   "source": [
    "## DEMO USAGE: GNPS downloader and post-processing"
   ]
  },
  {
   "cell_type": "code",
   "execution_count": 1,
   "id": "9d4c4452-f40c-4cea-9741-b5bd5745e707",
   "metadata": {},
   "outputs": [],
   "source": [
    "import sys \n",
    "sys.path.append('../src')\n",
    "from consolidates_structures import consolidate_and_convert_structures\n",
    "from gnps_download_results import gnps_download_results\n",
    "from gnps_results_postprocess import *"
   ]
  },
  {
   "cell_type": "markdown",
   "id": "03a2835d-ab69-4997-9330-19c0b485d438",
   "metadata": {},
   "source": [
    "## Download classical molecular networking"
   ]
  },
  {
   "cell_type": "code",
   "execution_count": 3,
   "id": "3e4804c5-3612-4119-a292-54a6a3dff013",
   "metadata": {},
   "outputs": [
    {
     "name": "stdout",
     "output_type": "stream",
     "text": [
      "==================\n",
      "This is the GNPS job link: https://gnps.ucsd.edu/ProteoSAFe/status.jsp?task=bbee697a63b1400ea585410fafc95723\n",
      "Downloading the following content: https://gnps.ucsd.edu/ProteoSAFe/DownloadResult?task=bbee697a63b1400ea585410fafc95723&view=view_all_annotations_DB\n",
      "GNPS job results were succesfully downloaded as: gnps_results.zip\n",
      "GNPS job results were succesfully extracted into the folder: gnps_results\n",
      "==================\n",
      "   CLASSICAL MOLECULAR NETWORKING job detected\n",
      "==================\n",
      "      199 spectral library annotations in the job.\n",
      "==================\n",
      "      9643 nodes in the network (including single nodes)\n"
     ]
    },
    {
     "data": {
      "text/html": [
       "<div>\n",
       "<style scoped>\n",
       "    .dataframe tbody tr th:only-of-type {\n",
       "        vertical-align: middle;\n",
       "    }\n",
       "\n",
       "    .dataframe tbody tr th {\n",
       "        vertical-align: top;\n",
       "    }\n",
       "\n",
       "    .dataframe thead th {\n",
       "        text-align: right;\n",
       "    }\n",
       "</style>\n",
       "<table border=\"1\" class=\"dataframe\">\n",
       "  <thead>\n",
       "    <tr style=\"text-align: right;\">\n",
       "      <th></th>\n",
       "      <th>#Scan#</th>\n",
       "      <th>Adduct</th>\n",
       "      <th>CAS_Number</th>\n",
       "      <th>Charge</th>\n",
       "      <th>Compound_Name</th>\n",
       "      <th>Compound_Source</th>\n",
       "      <th>Data_Collector</th>\n",
       "      <th>ExactMass</th>\n",
       "      <th>FileScanUniqueID</th>\n",
       "      <th>INCHI</th>\n",
       "      <th>...</th>\n",
       "      <th>RT_Query</th>\n",
       "      <th>SharedPeaks</th>\n",
       "      <th>Smiles</th>\n",
       "      <th>SpecCharge</th>\n",
       "      <th>SpecMZ</th>\n",
       "      <th>SpectrumFile</th>\n",
       "      <th>SpectrumID</th>\n",
       "      <th>TIC_Query</th>\n",
       "      <th>UpdateWorkflowName</th>\n",
       "      <th>tags</th>\n",
       "    </tr>\n",
       "  </thead>\n",
       "  <tbody>\n",
       "    <tr>\n",
       "      <th>0</th>\n",
       "      <td>100631</td>\n",
       "      <td>[M+H]+</td>\n",
       "      <td>NaN</td>\n",
       "      <td>1</td>\n",
       "      <td>MoNA:594132 Octocrylene</td>\n",
       "      <td>isolated</td>\n",
       "      <td>MoNA</td>\n",
       "      <td>0.0</td>\n",
       "      <td>spectra/specs_ms.pklbin100631</td>\n",
       "      <td>InChI=1S/C24H27NO2/c1-3-5-12-19(4-2)18-27-24(2...</td>\n",
       "      <td>...</td>\n",
       "      <td>73.567</td>\n",
       "      <td>5</td>\n",
       "      <td>NaN</td>\n",
       "      <td>0</td>\n",
       "      <td>362.208</td>\n",
       "      <td>spectra/specs_ms.pklbin</td>\n",
       "      <td>CCMSLIB00000566191</td>\n",
       "      <td>1910.37</td>\n",
       "      <td>UPDATE-SINGLE-ANNOTATED-BRONZE</td>\n",
       "      <td></td>\n",
       "    </tr>\n",
       "    <tr>\n",
       "      <th>1</th>\n",
       "      <td>100637</td>\n",
       "      <td>[M+H]+</td>\n",
       "      <td>NaN</td>\n",
       "      <td>1</td>\n",
       "      <td>MoNA:594132 Octocrylene</td>\n",
       "      <td>isolated</td>\n",
       "      <td>MoNA</td>\n",
       "      <td>0.0</td>\n",
       "      <td>spectra/specs_ms.pklbin100637</td>\n",
       "      <td>InChI=1S/C24H27NO2/c1-3-5-12-19(4-2)18-27-24(2...</td>\n",
       "      <td>...</td>\n",
       "      <td>433.325</td>\n",
       "      <td>7</td>\n",
       "      <td>NaN</td>\n",
       "      <td>0</td>\n",
       "      <td>362.212</td>\n",
       "      <td>spectra/specs_ms.pklbin</td>\n",
       "      <td>CCMSLIB00000566191</td>\n",
       "      <td>31304.20</td>\n",
       "      <td>UPDATE-SINGLE-ANNOTATED-BRONZE</td>\n",
       "      <td></td>\n",
       "    </tr>\n",
       "  </tbody>\n",
       "</table>\n",
       "<p>2 rows × 36 columns</p>\n",
       "</div>"
      ],
      "text/plain": [
       "   #Scan#  Adduct CAS_Number  Charge            Compound_Name Compound_Source  \\\n",
       "0  100631  [M+H]+        NaN       1  MoNA:594132 Octocrylene        isolated   \n",
       "1  100637  [M+H]+        NaN       1  MoNA:594132 Octocrylene        isolated   \n",
       "\n",
       "  Data_Collector  ExactMass               FileScanUniqueID  \\\n",
       "0           MoNA        0.0  spectra/specs_ms.pklbin100631   \n",
       "1           MoNA        0.0  spectra/specs_ms.pklbin100637   \n",
       "\n",
       "                                               INCHI  ... RT_Query  \\\n",
       "0  InChI=1S/C24H27NO2/c1-3-5-12-19(4-2)18-27-24(2...  ...   73.567   \n",
       "1  InChI=1S/C24H27NO2/c1-3-5-12-19(4-2)18-27-24(2...  ...  433.325   \n",
       "\n",
       "  SharedPeaks Smiles SpecCharge   SpecMZ             SpectrumFile  \\\n",
       "0           5    NaN          0  362.208  spectra/specs_ms.pklbin   \n",
       "1           7    NaN          0  362.212  spectra/specs_ms.pklbin   \n",
       "\n",
       "           SpectrumID  TIC_Query              UpdateWorkflowName  tags  \n",
       "0  CCMSLIB00000566191    1910.37  UPDATE-SINGLE-ANNOTATED-BRONZE        \n",
       "1  CCMSLIB00000566191   31304.20  UPDATE-SINGLE-ANNOTATED-BRONZE        \n",
       "\n",
       "[2 rows x 36 columns]"
      ]
     },
     "execution_count": 3,
     "metadata": {},
     "output_type": "execute_result"
    }
   ],
   "source": [
    "# Classical Mol Net\n",
    "gnps_annotations = gnps_download_results(job_id = 'bbee697a63b1400ea585410fafc95723', output_folder = 'gnps_results', return_annotation_table=True)\n",
    "gnps_annotations.head(2)"
   ]
  },
  {
   "cell_type": "markdown",
   "id": "d8228496-4e11-4fe5-9b76-a0e644ab1460",
   "metadata": {},
   "source": [
    "## Download feature-based molecular networking"
   ]
  },
  {
   "cell_type": "code",
   "execution_count": 5,
   "id": "1b8f404d-1d0a-4477-94e4-f1a48675bbbd",
   "metadata": {},
   "outputs": [
    {
     "name": "stdout",
     "output_type": "stream",
     "text": [
      "==================\n",
      "This is the GNPS job link: https://gnps.ucsd.edu/ProteoSAFe/status.jsp?task=2047c735fc3546f7a3a32c78245edccf\n",
      "Downloading the following content: https://gnps.ucsd.edu/ProteoSAFe/DownloadResult?task=2047c735fc3546f7a3a32c78245edccf&view=view_all_annotations_DB\n",
      "GNPS job results were succesfully downloaded as: gnps_results_fbmn.zip\n",
      "GNPS job results were succesfully extracted into the folder: gnps_results_fbmn\n",
      "==================\n",
      "==================\n",
      "   FEATURE-BASED MOLECULAR NETWORKING job detected - Version > 28\n",
      "==================\n",
      "      206 spectral library annotations in the job.\n",
      "==================\n",
      "      960 nodes in the network (including single nodes).\n"
     ]
    },
    {
     "data": {
      "text/html": [
       "<div>\n",
       "<style scoped>\n",
       "    .dataframe tbody tr th:only-of-type {\n",
       "        vertical-align: middle;\n",
       "    }\n",
       "\n",
       "    .dataframe tbody tr th {\n",
       "        vertical-align: top;\n",
       "    }\n",
       "\n",
       "    .dataframe thead th {\n",
       "        text-align: right;\n",
       "    }\n",
       "</style>\n",
       "<table border=\"1\" class=\"dataframe\">\n",
       "  <thead>\n",
       "    <tr style=\"text-align: right;\">\n",
       "      <th></th>\n",
       "      <th>SpectrumID</th>\n",
       "      <th>Compound_Name</th>\n",
       "      <th>Ion_Source</th>\n",
       "      <th>Instrument</th>\n",
       "      <th>Compound_Source</th>\n",
       "      <th>PI</th>\n",
       "      <th>Data_Collector</th>\n",
       "      <th>Adduct</th>\n",
       "      <th>Precursor_MZ</th>\n",
       "      <th>ExactMass</th>\n",
       "      <th>...</th>\n",
       "      <th>MoleculeExplorerDatasets</th>\n",
       "      <th>MoleculeExplorerFiles</th>\n",
       "      <th>InChIKey</th>\n",
       "      <th>InChIKey-Planar</th>\n",
       "      <th>superclass</th>\n",
       "      <th>class</th>\n",
       "      <th>subclass</th>\n",
       "      <th>npclassifier_superclass</th>\n",
       "      <th>npclassifier_class</th>\n",
       "      <th>npclassifier_pathway</th>\n",
       "    </tr>\n",
       "  </thead>\n",
       "  <tbody>\n",
       "    <tr>\n",
       "      <th>0</th>\n",
       "      <td>CCMSLIB00003181672</td>\n",
       "      <td>Terpineol</td>\n",
       "      <td>ESI</td>\n",
       "      <td>Q-TOF</td>\n",
       "      <td>Isolated</td>\n",
       "      <td>NIST</td>\n",
       "      <td>NIST</td>\n",
       "      <td>M+H-H2O</td>\n",
       "      <td>137.133</td>\n",
       "      <td>0.0</td>\n",
       "      <td>...</td>\n",
       "      <td>0</td>\n",
       "      <td>0</td>\n",
       "      <td>WUOACPNHFRMFPN-UHFFFAOYSA-N</td>\n",
       "      <td>WUOACPNHFRMFPN</td>\n",
       "      <td>Lipids and lipid-like molecules</td>\n",
       "      <td>Prenol lipids</td>\n",
       "      <td>Monoterpenoids</td>\n",
       "      <td>Monoterpenoids</td>\n",
       "      <td>Menthane monoterpenoids|Monocyclic monoterpenoids</td>\n",
       "      <td>Terpenoids</td>\n",
       "    </tr>\n",
       "    <tr>\n",
       "      <th>1</th>\n",
       "      <td>CCMSLIB00000500284</td>\n",
       "      <td>3-Copaene</td>\n",
       "      <td>LC-ESI</td>\n",
       "      <td>LC-ESI-QTOF</td>\n",
       "      <td>Isolated</td>\n",
       "      <td>Metlin</td>\n",
       "      <td>NaN</td>\n",
       "      <td>M+H</td>\n",
       "      <td>205.195</td>\n",
       "      <td>0.0</td>\n",
       "      <td>...</td>\n",
       "      <td>0</td>\n",
       "      <td>0</td>\n",
       "      <td>NaN</td>\n",
       "      <td>NaN</td>\n",
       "      <td>NaN</td>\n",
       "      <td>NaN</td>\n",
       "      <td>NaN</td>\n",
       "      <td>NaN</td>\n",
       "      <td>NaN</td>\n",
       "      <td>NaN</td>\n",
       "    </tr>\n",
       "  </tbody>\n",
       "</table>\n",
       "<p>2 rows × 46 columns</p>\n",
       "</div>"
      ],
      "text/plain": [
       "           SpectrumID Compound_Name Ion_Source   Instrument Compound_Source  \\\n",
       "0  CCMSLIB00003181672     Terpineol        ESI        Q-TOF        Isolated   \n",
       "1  CCMSLIB00000500284     3-Copaene     LC-ESI  LC-ESI-QTOF        Isolated   \n",
       "\n",
       "       PI Data_Collector   Adduct  Precursor_MZ  ExactMass  ...  \\\n",
       "0    NIST           NIST  M+H-H2O       137.133        0.0  ...   \n",
       "1  Metlin            NaN      M+H       205.195        0.0  ...   \n",
       "\n",
       "   MoleculeExplorerDatasets MoleculeExplorerFiles  \\\n",
       "0                         0                     0   \n",
       "1                         0                     0   \n",
       "\n",
       "                      InChIKey InChIKey-Planar  \\\n",
       "0  WUOACPNHFRMFPN-UHFFFAOYSA-N  WUOACPNHFRMFPN   \n",
       "1                          NaN             NaN   \n",
       "\n",
       "                        superclass          class        subclass  \\\n",
       "0  Lipids and lipid-like molecules  Prenol lipids  Monoterpenoids   \n",
       "1                              NaN            NaN             NaN   \n",
       "\n",
       "  npclassifier_superclass                                 npclassifier_class  \\\n",
       "0          Monoterpenoids  Menthane monoterpenoids|Monocyclic monoterpenoids   \n",
       "1                     NaN                                                NaN   \n",
       "\n",
       "  npclassifier_pathway  \n",
       "0           Terpenoids  \n",
       "1                  NaN  \n",
       "\n",
       "[2 rows x 46 columns]"
      ]
     },
     "execution_count": 5,
     "metadata": {},
     "output_type": "execute_result"
    }
   ],
   "source": [
    "# Feature-Based Molecular Networking\n",
    "gnps_annotations = gnps_download_results(job_id = '2047c735fc3546f7a3a32c78245edccf', output_folder = 'gnps_results_fbmn', return_annotation_table=True)\n",
    "gnps_annotations.head(2)"
   ]
  },
  {
   "cell_type": "markdown",
   "id": "90aa4670-a501-47df-b7d3-7eaf6e557623",
   "metadata": {},
   "source": [
    "## Consolidate structures"
   ]
  },
  {
   "cell_type": "code",
   "execution_count": 6,
   "id": "0d4a0926-12e1-4032-bd9c-956237865757",
   "metadata": {},
   "outputs": [
    {
     "name": "stdout",
     "output_type": "stream",
     "text": [
      "Both SMILES and InChI were inputted\n",
      "Converting SMILES to mol object\n",
      "Succesfully converted to mol object: 148\n",
      "Exception to the parsing: 0\n",
      "Not available: 59\n",
      "Converting INCHI to mol object\n",
      "Succesfully converted to mol object: 155\n",
      "Exception to the parsing: 0\n",
      "Not available: 52\n",
      "Consolidating the lists\n",
      "Total mol object from the list 1 = 148\n",
      "Mol object consolidated from list 2 = 9\n",
      "Consolidated structures = 157\n",
      "Converting mol objects to SMILES iso\n",
      "Converting mol objects to SMILES\n",
      "Converting mol objects to InChI\n",
      "Converting mol objects to InChIKey\n",
      "End\n"
     ]
    },
    {
     "data": {
      "text/html": [
       "<div>\n",
       "<style scoped>\n",
       "    .dataframe tbody tr th:only-of-type {\n",
       "        vertical-align: middle;\n",
       "    }\n",
       "\n",
       "    .dataframe tbody tr th {\n",
       "        vertical-align: top;\n",
       "    }\n",
       "\n",
       "    .dataframe thead th {\n",
       "        text-align: right;\n",
       "    }\n",
       "</style>\n",
       "<table border=\"1\" class=\"dataframe\">\n",
       "  <thead>\n",
       "    <tr style=\"text-align: right;\">\n",
       "      <th></th>\n",
       "      <th>SpectrumID</th>\n",
       "      <th>Compound_Name</th>\n",
       "      <th>Ion_Source</th>\n",
       "      <th>Instrument</th>\n",
       "      <th>Compound_Source</th>\n",
       "      <th>PI</th>\n",
       "      <th>Data_Collector</th>\n",
       "      <th>Adduct</th>\n",
       "      <th>Precursor_MZ</th>\n",
       "      <th>ExactMass</th>\n",
       "      <th>...</th>\n",
       "      <th>superclass</th>\n",
       "      <th>class</th>\n",
       "      <th>subclass</th>\n",
       "      <th>npclassifier_superclass</th>\n",
       "      <th>npclassifier_class</th>\n",
       "      <th>npclassifier_pathway</th>\n",
       "      <th>Consol_SMILES_iso</th>\n",
       "      <th>Consol_SMILES</th>\n",
       "      <th>Consol_InChIKey</th>\n",
       "      <th>Consol_InChI</th>\n",
       "    </tr>\n",
       "  </thead>\n",
       "  <tbody>\n",
       "    <tr>\n",
       "      <th>0</th>\n",
       "      <td>CCMSLIB00003181672</td>\n",
       "      <td>Terpineol</td>\n",
       "      <td>ESI</td>\n",
       "      <td>Q-TOF</td>\n",
       "      <td>Isolated</td>\n",
       "      <td>NIST</td>\n",
       "      <td>NIST</td>\n",
       "      <td>M+H-H2O</td>\n",
       "      <td>137.133</td>\n",
       "      <td>0.0</td>\n",
       "      <td>...</td>\n",
       "      <td>Lipids and lipid-like molecules</td>\n",
       "      <td>Prenol lipids</td>\n",
       "      <td>Monoterpenoids</td>\n",
       "      <td>Monoterpenoids</td>\n",
       "      <td>Menthane monoterpenoids|Monocyclic monoterpenoids</td>\n",
       "      <td>Terpenoids</td>\n",
       "      <td>CC1=CCC(C(C)(C)O)CC1</td>\n",
       "      <td>CC1=CCC(C(C)(C)O)CC1</td>\n",
       "      <td>WUOACPNHFRMFPN-UHFFFAOYSA-N</td>\n",
       "      <td>InChI=1S/C10H18O/c1-8-4-6-9(7-5-8)10(2,3)11/h4...</td>\n",
       "    </tr>\n",
       "  </tbody>\n",
       "</table>\n",
       "<p>1 rows × 50 columns</p>\n",
       "</div>"
      ],
      "text/plain": [
       "           SpectrumID Compound_Name Ion_Source Instrument Compound_Source  \\\n",
       "0  CCMSLIB00003181672     Terpineol        ESI      Q-TOF        Isolated   \n",
       "\n",
       "     PI Data_Collector   Adduct  Precursor_MZ  ExactMass  ...  \\\n",
       "0  NIST           NIST  M+H-H2O       137.133        0.0  ...   \n",
       "\n",
       "                        superclass          class        subclass  \\\n",
       "0  Lipids and lipid-like molecules  Prenol lipids  Monoterpenoids   \n",
       "\n",
       "  npclassifier_superclass                                 npclassifier_class  \\\n",
       "0          Monoterpenoids  Menthane monoterpenoids|Monocyclic monoterpenoids   \n",
       "\n",
       "  npclassifier_pathway     Consol_SMILES_iso         Consol_SMILES  \\\n",
       "0           Terpenoids  CC1=CCC(C(C)(C)O)CC1  CC1=CCC(C(C)(C)O)CC1   \n",
       "\n",
       "               Consol_InChIKey  \\\n",
       "0  WUOACPNHFRMFPN-UHFFFAOYSA-N   \n",
       "\n",
       "                                        Consol_InChI  \n",
       "0  InChI=1S/C10H18O/c1-8-4-6-9(7-5-8)10(2,3)11/h4...  \n",
       "\n",
       "[1 rows x 50 columns]"
      ]
     },
     "execution_count": 6,
     "metadata": {},
     "output_type": "execute_result"
    }
   ],
   "source": [
    "gnps_annotations_consolidated  = consolidate_and_convert_structures(gnps_annotations, prefix='', smiles='Smiles', inchi='INCHI')\n",
    "gnps_annotations.head(1)"
   ]
  },
  {
   "cell_type": "markdown",
   "id": "b6d38c93-c523-4454-9d24-799896808e4e",
   "metadata": {},
   "source": [
    "## Filter annotations"
   ]
  },
  {
   "cell_type": "code",
   "execution_count": 9,
   "id": "0aefaedb-b7f2-4826-bc31-c195400d58c3",
   "metadata": {},
   "outputs": [
    {
     "name": "stdout",
     "output_type": "stream",
     "text": [
      "Initial number of annotations: 207\n",
      "Remaining after ionisation mode filtering: 207\n",
      "Remaining after max_ppm_error filtering: 193\n",
      "Remaining after min_cosine filtering: 193\n",
      "Remaining after number of shared_peaks filtering: 165\n",
      "Remaining after number of spectrum charge filtering: 165\n"
     ]
    }
   ],
   "source": [
    "gnps_annotations_filtered = gnps_filter_annotations(gnps_annotations_consolidated, 'Consol_InChI', ionisation_mode = 'pos', max_ppm_error=10, min_cosine=0.6, shared_peaks = 6, max_spec_charge = 1)"
   ]
  },
  {
   "cell_type": "markdown",
   "id": "e03718aa-eaba-4851-b647-9e7ca715f3bd",
   "metadata": {},
   "source": [
    "## Clean up annotations"
   ]
  },
  {
   "cell_type": "code",
   "execution_count": 10,
   "id": "2f3db1bc-8bc2-4e17-972b-1e6fda98de46",
   "metadata": {},
   "outputs": [
    {
     "name": "stdout",
     "output_type": "stream",
     "text": [
      "Initial number of annotations: 165\n",
      "After removing annotations without structure: 117\n",
      "After intrinsically charged molecules removed: 117\n",
      "After carbon containing adducts filtering: 98\n"
     ]
    }
   ],
   "source": [
    "cleaned_up_gnps_annotations = gnps_clean_up_annotations(gnps_annotations_filtered, 'Consol_InChI', remove_C_containing_in_source_fragment = True)"
   ]
  },
  {
   "cell_type": "markdown",
   "id": "3d44426c-ab45-4797-9aec-32d0bf92e79f",
   "metadata": {},
   "source": [
    "## Get molecular formula proxy"
   ]
  },
  {
   "cell_type": "code",
   "execution_count": 11,
   "id": "8db6f7d0-12c9-4884-a419-a1c6851f0e00",
   "metadata": {},
   "outputs": [
    {
     "name": "stdout",
     "output_type": "stream",
     "text": [
      "Initial number of annotations filtering: 98\n",
      "After carbon containing adducts filtering: 98\n",
      "Valid molecular formula: 98\n"
     ]
    }
   ],
   "source": [
    "cleaned_up_gnps_annotations_formula = get_molecular_formula_from_inchi(cleaned_up_gnps_annotations, 'Consol_InChI')"
   ]
  }
 ],
 "metadata": {
  "kernelspec": {
   "display_name": "Python 3 (ipykernel)",
   "language": "python",
   "name": "python3"
  },
  "language_info": {
   "codemirror_mode": {
    "name": "ipython",
    "version": 3
   },
   "file_extension": ".py",
   "mimetype": "text/x-python",
   "name": "python",
   "nbconvert_exporter": "python",
   "pygments_lexer": "ipython3",
   "version": "3.8.12"
  }
 },
 "nbformat": 4,
 "nbformat_minor": 5
}
