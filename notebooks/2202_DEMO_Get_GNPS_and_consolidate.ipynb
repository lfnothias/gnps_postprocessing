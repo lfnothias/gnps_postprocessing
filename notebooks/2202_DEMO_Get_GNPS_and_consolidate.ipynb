{
 "cells": [
  {
   "cell_type": "markdown",
   "id": "8239c6a2-2f9b-49a6-8386-5462281ced95",
   "metadata": {},
   "source": [
    "## DEMO USAGE: GNPS downloader and post-processing"
   ]
  },
  {
   "cell_type": "code",
   "execution_count": 4,
   "id": "9d4c4452-f40c-4cea-9741-b5bd5745e707",
   "metadata": {},
   "outputs": [],
   "source": [
    "import sys \n",
    "sys.path.append('../lib')\n",
    "from consolidate_structures import *\n",
    "from gnps_download_results import *\n",
    "from gnps_results_postprocess import *"
   ]
  },
  {
   "cell_type": "markdown",
   "id": "03a2835d-ab69-4997-9330-19c0b485d438",
   "metadata": {},
   "source": [
    "## Download classical molecular networking"
   ]
  },
  {
   "cell_type": "code",
   "execution_count": 9,
   "id": "3e4804c5-3612-4119-a292-54a6a3dff013",
   "metadata": {},
   "outputs": [
    {
     "name": "stdout",
     "output_type": "stream",
     "text": [
      "==================\n",
      "This is the GNPS job link: https://gnps.ucsd.edu/ProteoSAFe/status.jsp?task=bbee697a63b1400ea585410fafc95723\n",
      "Downloading the following content: https://gnps.ucsd.edu/ProteoSAFe/DownloadResult?task=bbee697a63b1400ea585410fafc95723&view=view_all_annotations_DB\n"
     ]
    },
    {
     "name": "stderr",
     "output_type": "stream",
     "text": [
      "  % Total    % Received % Xferd  Average Speed   Time    Time     Time  Current\n",
      "                                 Dload  Upload   Total   Spent    Left  Speed\n",
      "100 29.5M    0 29.5M    0     0  2521k      0 --:--:--  0:00:11 --:--:-- 3596k\n"
     ]
    },
    {
     "name": "stdout",
     "output_type": "stream",
     "text": [
      "GNPS job results were succesfully downloaded as: gnps_results.zip\n",
      "GNPS job results were succesfully extracted into the folder: gnps_results\n",
      "==================\n",
      "   CLASSICAL MOLECULAR NETWORKING job detected\n",
      "==================\n",
      "      199 spectral library annotations in the job.\n",
      "==================\n",
      "      9643 nodes in the network (including single nodes)\n"
     ]
    }
   ],
   "source": [
    "# Classical Mol Net\n",
    "gnps_download_results(job_id = 'bbee697a63b1400ea585410fafc95723', output_folder = 'gnps_results')"
   ]
  },
  {
   "cell_type": "markdown",
   "id": "d8228496-4e11-4fe5-9b76-a0e644ab1460",
   "metadata": {},
   "source": [
    "## Download feature-based molecular networking"
   ]
  },
  {
   "cell_type": "code",
   "execution_count": 10,
   "id": "1b8f404d-1d0a-4477-94e4-f1a48675bbbd",
   "metadata": {},
   "outputs": [
    {
     "name": "stdout",
     "output_type": "stream",
     "text": [
      "==================\n",
      "This is the GNPS job link: https://gnps.ucsd.edu/ProteoSAFe/status.jsp?task=2047c735fc3546f7a3a32c78245edccf\n",
      "Downloading the following content: https://gnps.ucsd.edu/ProteoSAFe/DownloadResult?task=2047c735fc3546f7a3a32c78245edccf&view=view_all_annotations_DB\n"
     ]
    },
    {
     "name": "stderr",
     "output_type": "stream",
     "text": [
      "  % Total    % Received % Xferd  Average Speed   Time    Time     Time  Current\n",
      "                                 Dload  Upload   Total   Spent    Left  Speed\n",
      "100 4675k    0 4675k    0     0   579k      0 --:--:--  0:00:08 --:--:--  850k"
     ]
    },
    {
     "name": "stdout",
     "output_type": "stream",
     "text": [
      "GNPS job results were succesfully downloaded as: gnps_results_fbmn.zip\n",
      "GNPS job results were succesfully extracted into the folder: gnps_results_fbmn\n",
      "==================\n",
      "==================\n",
      "   FEATURE-BASED MOLECULAR NETWORKING job detected - Version > 28\n",
      "==================\n",
      "      206 spectral library annotations in the job.\n",
      "==================\n",
      "      960 nodes in the network (including single nodes).\n"
     ]
    },
    {
     "name": "stderr",
     "output_type": "stream",
     "text": [
      "100 4999k    0 4999k    0     0   596k      0 --:--:--  0:00:08 --:--:--  878k\n"
     ]
    }
   ],
   "source": [
    "# Feature-Based Molecular Networking\n",
    "gnps_download_results(job_id = '2047c735fc3546f7a3a32c78245edccf', output_folder = 'gnps_results_fbmn')"
   ]
  },
  {
   "cell_type": "markdown",
   "id": "90aa4670-a501-47df-b7d3-7eaf6e557623",
   "metadata": {},
   "source": [
    "## Consolidate structures"
   ]
  },
  {
   "cell_type": "code",
   "execution_count": 11,
   "id": "0d4a0926-12e1-4032-bd9c-956237865757",
   "metadata": {},
   "outputs": [
    {
     "name": "stdout",
     "output_type": "stream",
     "text": [
      " ==== Consolidating structures from SMILES and/or InChI ====\n",
      "Both SMILES and InChI were inputted\n",
      "Converting SMILES to mol object\n",
      "Succesfully converted to mol object: 148\n",
      "Exception to the parsing: 0\n",
      "Not available: 59\n",
      "Converting INCHI to mol object\n",
      "Succesfully converted to mol object: 155\n",
      "Exception to the parsing: 0\n",
      "Not available: 52\n",
      "Consolidating the lists\n",
      "Total mol object from the list 1 = 148\n",
      "Mol object consolidated from list 2 = 10\n",
      "Consolidated structures = 158\n",
      "Converting mol objects to SMILES iso\n",
      "Converting mol objects to SMILES\n",
      "Converting mol objects to InChI\n",
      "Converting mol objects to InChIKey\n",
      "End\n"
     ]
    }
   ],
   "source": [
    "gnps_annotations_consolidated  = consolidate_and_convert_structures(gnps_download_results.df_annotations, prefix='', smiles='Smiles', inchi='INCHI')"
   ]
  },
  {
   "cell_type": "markdown",
   "id": "b6d38c93-c523-4454-9d24-799896808e4e",
   "metadata": {},
   "source": [
    "## Filter annotations"
   ]
  },
  {
   "cell_type": "code",
   "execution_count": 12,
   "id": "0aefaedb-b7f2-4826-bc31-c195400d58c3",
   "metadata": {},
   "outputs": [
    {
     "name": "stdout",
     "output_type": "stream",
     "text": [
      "Initial number of annotations: 207\n",
      "Remaining after ionisation mode filtering: 207\n",
      "Remaining after max_ppm_error filtering: 193\n",
      "Remaining after min_cosine filtering: 193\n",
      "Remaining after number of shared_peaks filtering: 165\n",
      "Remaining after number of spectrum charge filtering: 165\n"
     ]
    }
   ],
   "source": [
    "gnps_annotations_filtered = gnps_filter_annotations(gnps_annotations_consolidated, 'Consol_InChI', ionisation_mode = 'pos', max_ppm_error=10, min_cosine=0.6, shared_peaks = 6, max_spec_charge = 1)"
   ]
  },
  {
   "cell_type": "markdown",
   "id": "e03718aa-eaba-4851-b647-9e7ca715f3bd",
   "metadata": {},
   "source": [
    "## Clean up annotations"
   ]
  },
  {
   "cell_type": "code",
   "execution_count": 13,
   "id": "2f3db1bc-8bc2-4e17-972b-1e6fda98de46",
   "metadata": {},
   "outputs": [
    {
     "name": "stdout",
     "output_type": "stream",
     "text": [
      "Initial number of annotations: 165\n",
      "After removing annotations without structure: 118\n",
      "After intrinsically charged molecules removed: 118\n",
      "After carbon containing adducts filtering: 99\n"
     ]
    }
   ],
   "source": [
    "cleaned_up_gnps_annotations = gnps_clean_up_annotations(gnps_annotations_filtered, 'Consol_InChI', remove_C_containing_in_source_fragment = True)"
   ]
  },
  {
   "cell_type": "markdown",
   "id": "3d44426c-ab45-4797-9aec-32d0bf92e79f",
   "metadata": {},
   "source": [
    "## Get molecular formula proxy"
   ]
  },
  {
   "cell_type": "code",
   "execution_count": 14,
   "id": "8db6f7d0-12c9-4884-a419-a1c6851f0e00",
   "metadata": {},
   "outputs": [
    {
     "name": "stdout",
     "output_type": "stream",
     "text": [
      "Initial number of annotations: 99\n",
      "After carbon containing adducts filtering: 99\n"
     ]
    }
   ],
   "source": [
    "cleaned_up_gnps_annotations_formula = get_molecular_formula_from_inchi(cleaned_up_gnps_annotations, 'Consol_InChI')"
   ]
  },
  {
   "cell_type": "code",
   "execution_count": null,
   "id": "9ea768b2-8857-4b78-a628-145f5531cb8a",
   "metadata": {},
   "outputs": [],
   "source": []
  }
 ],
 "metadata": {
  "kernelspec": {
   "display_name": "Python 3 (ipykernel)",
   "language": "python",
   "name": "python3"
  },
  "language_info": {
   "codemirror_mode": {
    "name": "ipython",
    "version": 3
   },
   "file_extension": ".py",
   "mimetype": "text/x-python",
   "name": "python",
   "nbconvert_exporter": "python",
   "pygments_lexer": "ipython3",
   "version": "3.7.12"
  }
 },
 "nbformat": 4,
 "nbformat_minor": 5
}
